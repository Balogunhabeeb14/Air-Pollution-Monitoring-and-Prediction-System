{
 "cells": [
  {
   "cell_type": "markdown",
   "id": "e90cb604",
   "metadata": {},
   "source": [
    "## Import necessary utilities"
   ]
  },
  {
   "cell_type": "code",
   "execution_count": 1,
   "id": "10e7ef8f",
   "metadata": {},
   "outputs": [],
   "source": [
    "import pandas as pd\n",
    "import numpy as np\n",
    "from sklearn.preprocessing import StandardScaler, MinMaxScaler\n",
    "from sklearn import svm\n",
    "import matplotlib.pyplot as plt\n",
    "import seaborn as sns\n",
    "import statsmodels.api as sm\n",
    "import xgboost\n",
    "import shap\n",
    "from sklearn.metrics import accuracy_score\n",
    "import pickle\n",
    "import itertools\n",
    "import threading\n",
    "import time\n",
    "import sys\n",
    "from sklearn.ensemble import RandomForestClassifier as RF"
   ]
  },
  {
   "cell_type": "code",
   "execution_count": 2,
   "id": "8572f301",
   "metadata": {},
   "outputs": [],
   "source": [
    "def clean_dataset(df):\n",
    "    assert isinstance(df, pd.DataFrame), \"df needs to be a pd.DataFrame\"\n",
    "    #df.dropna(inplace=True)\n",
    "    indices_to_keep = ~df.isin([np.nan, np.inf, -np.inf]).any(1)\n",
    "    return df[indices_to_keep].astype(np.float64)"
   ]
  },
  {
   "cell_type": "markdown",
   "id": "aa829b10",
   "metadata": {},
   "source": [
    "## Train/Test Postcode Spliting"
   ]
  },
  {
   "cell_type": "code",
   "execution_count": 3,
   "id": "36bc47dc",
   "metadata": {},
   "outputs": [],
   "source": [
    "def loadData():\n",
    "    \n",
    "    #gwtp_SO2 = pd.read_csv('gwtp_SO2.csv')\n",
    "    gwtp = pd.read_csv('gwtp.csv')\n",
    "    gwtp_O3 = pd.read_csv('gwtp_O3.csv')\n",
    "    gwtp_NO2 = pd.read_csv('gwtp_NO2.csv')\n",
    "    gwtp_PM10 = pd.read_csv('gwtp_PM10.csv')\n",
    "    gwtp_PM25 = pd.read_csv('gwtp_PM25.csv')\n",
    "    return gwtp,gwtp_O3,gwtp_NO2,gwtp_SO2,gwtp_PM10,gwtp_PM25\n",
    "    #return gwtp,gwtp_O3,gwtp_NO2,gwtp_PM10,gwtp_PM25\n",
    "\n",
    "def postcodeSplit(data):\n",
    "    #all_postcodes = data.postcode.unique().tolist()\n",
    "    all_postcodes = data.postcode.unique().tolist()\n",
    "    test_postcodes = all_postcodes[0:3]\n",
    "    valid_postcodes = all_postcodes[4:9]\n",
    "    return test_postcodes,valid_postcodes"
   ]
  },
  {
   "cell_type": "markdown",
   "id": "cd8282b0",
   "metadata": {},
   "source": [
    "# Model Building"
   ]
  },
  {
   "cell_type": "markdown",
   "id": "0f294584",
   "metadata": {},
   "source": [
    "### Data Prepration"
   ]
  },
  {
   "cell_type": "code",
   "execution_count": 4,
   "id": "768f30ca",
   "metadata": {},
   "outputs": [],
   "source": [
    "def stringToNumeric(data):\n",
    "    dummy_main = pd.get_dummies(data.main)\n",
    "    dummy_description = pd.get_dummies(data.description)\n",
    "    dummy_icon = pd.get_dummies(data.icon)\n",
    "    dummy_dayoftheweek= pd.get_dummies(data.dayoftheweek)\n",
    "    dummy_frc= pd.get_dummies(data.frc)\n",
    "    data_merged = pd.concat([data, dummy_main,dummy_description,dummy_icon,dummy_dayoftheweek,dummy_frc], axis='columns')\n",
    "    data_merged=data_merged.drop(['main', 'description','icon','dayoftheweek','frc'], axis='columns')\n",
    "    data_merged=data_merged.drop(['latitude4', 'longitude4'], axis=1)\n",
    "    return data_merged"
   ]
  },
  {
   "cell_type": "code",
   "execution_count": 5,
   "id": "6bb62e39",
   "metadata": {},
   "outputs": [],
   "source": [
    "def aqiClasses(pollutant,data):\n",
    "    if pollutant == 'O3':\n",
    "        pollutant_data = data[data[pollutant].notna()].reset_index(drop=True)\n",
    "        pollutant_data.loc[pollutant_data[pollutant] <=33, 'AQI'] = 1\n",
    "        pollutant_data.loc[(pollutant_data[pollutant]>33)&(pollutant_data[pollutant]<=66), 'AQI'] = 2\n",
    "        pollutant_data.loc[(pollutant_data[pollutant]>66)&(pollutant_data[pollutant]<=100), 'AQI'] = 3\n",
    "        pollutant_data.loc[(pollutant_data[pollutant]>100)&(pollutant_data[pollutant]<=120), 'AQI'] = 4\n",
    "        pollutant_data.loc[(pollutant_data[pollutant]>120)&(pollutant_data[pollutant]<=140), 'AQI'] = 5\n",
    "        pollutant_data.loc[(pollutant_data[pollutant]>140)&(pollutant_data[pollutant]<=160), 'AQI'] = 6\n",
    "        pollutant_data.loc[(pollutant_data[pollutant]>160)&(pollutant_data[pollutant]<=187), 'AQI'] = 7\n",
    "        pollutant_data.loc[(pollutant_data[pollutant]>187)&(pollutant_data[pollutant]<=213), 'AQI'] = 8\n",
    "        pollutant_data.loc[(pollutant_data[pollutant]>213)&(pollutant_data[pollutant]<=240), 'AQI'] = 9\n",
    "        pollutant_data.loc[pollutant_data[pollutant] >240, 'AQI'] = 10\n",
    "    elif pollutant == 'SO2':\n",
    "        pollutant_data = data[data[pollutant].notna()].reset_index(drop=True)\n",
    "        pollutant_data.loc[pollutant_data[pollutant] <=88, 'AQI'] = 1\n",
    "        pollutant_data.loc[(pollutant_data[pollutant]>67)&(pollutant_data[pollutant]<=177), 'AQI'] = 2\n",
    "        pollutant_data.loc[(pollutant_data[pollutant]>177)&(pollutant_data[pollutant]<=266), 'AQI'] = 3\n",
    "        pollutant_data.loc[(pollutant_data[pollutant]>266)&(pollutant_data[pollutant]<=354), 'AQI'] = 4\n",
    "        pollutant_data.loc[(pollutant_data[pollutant]>354)&(pollutant_data[pollutant]<=443), 'AQI'] = 5\n",
    "        pollutant_data.loc[(pollutant_data[pollutant]>443)&(pollutant_data[pollutant]<=532), 'AQI'] = 6\n",
    "        pollutant_data.loc[(pollutant_data[pollutant]>532)&(pollutant_data[pollutant]<=710), 'AQI'] = 7\n",
    "        pollutant_data.loc[(pollutant_data[pollutant]>710)&(pollutant_data[pollutant]<=887), 'AQI'] = 8\n",
    "        pollutant_data.loc[(pollutant_data[pollutant]>887)&(pollutant_data[pollutant]<=1064), 'AQI'] = 9\n",
    "        pollutant_data.loc[pollutant_data[pollutant] >1064, 'AQI'] = 10\n",
    "    elif pollutant == 'NO2': \n",
    "        pollutant_data = data[data[pollutant].notna()].reset_index(drop=True)\n",
    "        pollutant_data.loc[pollutant_data[pollutant] <=67, 'AQI'] = 1\n",
    "        pollutant_data.loc[(pollutant_data[pollutant]>67)&(pollutant_data[pollutant]<=134), 'AQI'] = 2\n",
    "        pollutant_data.loc[(pollutant_data[pollutant]>134)&(pollutant_data[pollutant]<=200), 'AQI'] = 3\n",
    "        pollutant_data.loc[(pollutant_data[pollutant]>201)&(pollutant_data[pollutant]<=267), 'AQI'] = 4\n",
    "        pollutant_data.loc[(pollutant_data[pollutant]>267)&(pollutant_data[pollutant]<=334), 'AQI'] = 5\n",
    "        pollutant_data.loc[(pollutant_data[pollutant]>334)&(pollutant_data[pollutant]<=400), 'AQI'] = 6\n",
    "        pollutant_data.loc[(pollutant_data[pollutant]>400)&(pollutant_data[pollutant]<=467), 'AQI'] = 7\n",
    "        pollutant_data.loc[(pollutant_data[pollutant]>467)&(pollutant_data[pollutant]<=534), 'AQI'] = 8\n",
    "        pollutant_data.loc[(pollutant_data[pollutant]>534)&(pollutant_data[pollutant]<=600), 'AQI'] = 9\n",
    "        pollutant_data.loc[pollutant_data[pollutant] >600, 'AQI'] = 10\n",
    "    elif pollutant == 'PM10':\n",
    "        pollutant_data = data[data[pollutant].notna()].reset_index(drop=True)\n",
    "        pollutant_data.loc[pollutant_data[pollutant] <=16, 'AQI'] = 1\n",
    "        pollutant_data.loc[(pollutant_data[pollutant]>16)&(pollutant_data[pollutant]<=33), 'AQI'] = 2\n",
    "        pollutant_data.loc[(pollutant_data[pollutant]>33)&(pollutant_data[pollutant]<=50), 'AQI'] = 3\n",
    "        pollutant_data.loc[(pollutant_data[pollutant]>50)&(pollutant_data[pollutant]<=58), 'AQI'] = 4\n",
    "        pollutant_data.loc[(pollutant_data[pollutant]>58)&(pollutant_data[pollutant]<=66), 'AQI'] = 5\n",
    "        pollutant_data.loc[(pollutant_data[pollutant]>66)&(pollutant_data[pollutant]<=75), 'AQI'] = 6\n",
    "        pollutant_data.loc[(pollutant_data[pollutant]>75)&(pollutant_data[pollutant]<=83), 'AQI'] = 7\n",
    "        pollutant_data.loc[(pollutant_data[pollutant]>83)&(pollutant_data[pollutant]<=91), 'AQI'] = 8\n",
    "        pollutant_data.loc[(pollutant_data[pollutant]>91)&(pollutant_data[pollutant]<=100), 'AQI'] = 9\n",
    "        pollutant_data.loc[pollutant_data[pollutant] >100, 'AQI'] = 10\n",
    "    elif pollutant == 'PM25':\n",
    "        pollutant_data = data[data[pollutant].notna()].reset_index(drop=True)\n",
    "        pollutant_data.loc[pollutant_data[pollutant] <=11, 'AQI'] = 1\n",
    "        pollutant_data.loc[(pollutant_data[pollutant]>11)&(pollutant_data[pollutant]<=23), 'AQI'] = 2\n",
    "        pollutant_data.loc[(pollutant_data[pollutant]>23)&(pollutant_data[pollutant]<=35), 'AQI'] = 3\n",
    "        pollutant_data.loc[(pollutant_data[pollutant]>35)&(pollutant_data[pollutant]<=41), 'AQI'] = 4\n",
    "        pollutant_data.loc[(pollutant_data[pollutant]>41)&(pollutant_data[pollutant]<=47), 'AQI'] = 5\n",
    "        pollutant_data.loc[(pollutant_data[pollutant]>47)&(pollutant_data[pollutant]<=53), 'AQI'] = 6\n",
    "        pollutant_data.loc[(pollutant_data[pollutant]>53)&(pollutant_data[pollutant]<=58), 'AQI'] = 7\n",
    "        pollutant_data.loc[(pollutant_data[pollutant]>58)&(pollutant_data[pollutant]<=64), 'AQI'] = 8\n",
    "        pollutant_data.loc[(pollutant_data[pollutant]>64)&(pollutant_data[pollutant]<=70), 'AQI'] = 9\n",
    "        pollutant_data.loc[pollutant_data[pollutant] >71, 'AQI'] = 10\n",
    "    \n",
    "    return pollutant_data\n",
    "\n"
   ]
  },
  {
   "cell_type": "markdown",
   "id": "57725b5f",
   "metadata": {},
   "source": [
    "### Data Spliting "
   ]
  },
  {
   "cell_type": "code",
   "execution_count": 6,
   "id": "63763aa7",
   "metadata": {},
   "outputs": [],
   "source": [
    "def dataSpliting(data,pollutant,test_pc,valid_pc):\n",
    "    test_postcodes = pd.DataFrame(test_pc)       #pd.DataFrame(data.postcode.unique()).sample(3)\n",
    "\n",
    "    X_test = data[data.postcode.isin(test_postcodes[test_postcodes.columns[0]].values.tolist()) ].reset_index(drop=True)\n",
    "    #print('X_test: ',len(X_test .postcode.unique()), 'Samples: ', len(X_test) )\n",
    "    #print(X_test.postcode.unique())\n",
    "    X_test_copy = X_test[['postcode','datetime']]\n",
    "    X_test=X_test.drop(['postcode',pollutant,'dt','datetime'], axis=1)\n",
    "    #print('X_test Got Nan in',X_test.columns[X_test.isna().any()].tolist())\n",
    "    for i in X_test.columns[X_test.isna().any()].tolist():\n",
    "        X_test[i] = X_test[i].fillna(0)\n",
    "    X_test = clean_dataset(X_test).reset_index(drop=True)\n",
    "    y_test = X_test[['AQI']]\n",
    "\n",
    "    X_test=X_test.drop(['AQI'], axis=1)\n",
    "\n",
    "\n",
    "    X = data[~data['postcode'].isin(test_postcodes[test_postcodes.columns[0]].values.tolist()) ]\n",
    "    valid_postcodes = pd.DataFrame(valid_pc) #pd.DataFrame(X.postcode.unique()).sample(5)\n",
    "\n",
    "    X_valid = X[X['postcode'].isin(valid_postcodes[valid_postcodes.columns[0]].values.tolist()) ].reset_index(drop=True)\n",
    "    #print('X_valid: ',len(X_valid.postcode.unique()), 'Samples: ', len(X_valid)  )\n",
    "    #print(X_valid.postcode.unique())\n",
    "    X_valid_copy = X_valid[['postcode','datetime']]\n",
    "    X_valid=X_valid.drop(['postcode',pollutant,'dt','datetime'], axis=1)\n",
    "    #print('X_valid Got Nan in',X_valid.columns[X_valid.isna().any()].tolist())\n",
    "    for i in X_valid.columns[X_valid.isna().any()].tolist():\n",
    "        X_valid[i] = X_valid[i].fillna(0)\n",
    "        #X_valid[i] = X_valid[i].fillna(X_valid[i].mean()) #mui\n",
    "    X_valid  = clean_dataset(X_valid).reset_index(drop=True)\n",
    "    y_valid = X_valid[['AQI']]\n",
    "    X_valid=X_valid.drop(['AQI'], axis=1)\n",
    "\n",
    "    X_train = X[~X['postcode'].isin(valid_postcodes[valid_postcodes.columns[0]].values.tolist()) ].reset_index(drop=True)\n",
    "    #print('X_train: ',len(X_train.postcode.unique()), 'Samples: ', len(X_train)  )\n",
    "    #print(X_train.postcode.unique())\n",
    "    X_train =X_train.drop(['postcode',pollutant,'dt','datetime'], axis=1)\n",
    "    #print('X_train Got Nan in',X_train.columns[X_train.isna().any()].tolist())\n",
    "    for i in X_train.columns[X_train.isna().any()].tolist():\n",
    "        X_train[i] = X_train[i].fillna(0)\n",
    "    X_train  = clean_dataset(X_train).reset_index(drop=True)\n",
    "    y_train = X_train[['AQI']]\n",
    "    X_train =X_train.drop(['AQI'], axis=1)\n",
    "    return X_test,y_test,X_train,y_train,X_valid,y_valid,X_valid_copy,X_test_copy\n"
   ]
  },
  {
   "cell_type": "markdown",
   "id": "fe601ee4",
   "metadata": {},
   "source": [
    "### Best Feature Selection "
   ]
  },
  {
   "cell_type": "code",
   "execution_count": 7,
   "id": "6e1a291a",
   "metadata": {},
   "outputs": [],
   "source": [
    "def featureSelection(X_train,y_train,X_valid,X_test):\n",
    "\n",
    "    shap.initjs()\n",
    "\n",
    "    model = xgboost.train({\"learning_rate\": 0.01}, xgboost.DMatrix(X_train, label=y_train), 100)\n",
    "\n",
    "    explainer = shap.TreeExplainer(model,X_train)\n",
    "\n",
    "    shap_values = explainer.shap_values(X_train)\n",
    "\n",
    "    def shapley_feature_ranking(shap_values, X):\n",
    "        feature_order = np.argsort(np.mean(np.abs(shap_values), axis=0))\n",
    "        return pd.DataFrame(\n",
    "            {\n",
    "                \"features\": [X.columns[i] for i in feature_order][::-1],\n",
    "                \"importance\": [\n",
    "                    np.mean(np.abs(shap_values), axis=0)[i] for i in feature_order\n",
    "                ][::-1],\n",
    "            }\n",
    "        )\n",
    "\n",
    "    #print(shapley_feature_ranking(shap_values,X_train))\n",
    "    selected_features = shapley_feature_ranking(shap_values,X_train)\n",
    "    selected_features = selected_features.features[selected_features.importance >0]\n",
    "    #shap.summary_plot(shap_values, X_train,max_display=len(selected_features), plot_type=\"bar\")\n",
    "    print('Selected Features')\n",
    "    print(selected_features)\n",
    "    train=X_train[selected_features]\n",
    "    print('X_train Samples: ', len(X_train)  )\n",
    "    valid=X_valid[selected_features]\n",
    "    print('X_valid Samples: ', len(X_valid)  )\n",
    "    test=X_test[selected_features]\n",
    "    print('X_test Samples: ', len(X_test)  )\n",
    "    return X_train,X_valid,X_test"
   ]
  },
  {
   "cell_type": "markdown",
   "id": "5d5271ed",
   "metadata": {},
   "source": [
    "### Training and Saving"
   ]
  },
  {
   "cell_type": "code",
   "execution_count": 39,
   "id": "96407d8c",
   "metadata": {},
   "outputs": [],
   "source": [
    "def scaleData(train,valid,test):\n",
    "    #sc = StandardScaler()\n",
    "    sc = MinMaxScaler(feature_range=(0,1))#\n",
    "    sc.fit_transform(train)\n",
    "    X_train = sc.transform(train)\n",
    "    X_valid = sc.transform(valid)\n",
    "    X_test = sc.transform(test)\n",
    "    return X_train,X_valid, X_test\n",
    "\n",
    "def trainModel(X_train,y_train,pollutant):\n",
    "    #clf = svm.SVC(decision_function_shape='ovo')\n",
    "    clf = RF()\n",
    "    clf.fit(X_train, y_train.values.ravel())\n",
    "    filename = pollutant+'_trained_model.sav'\n",
    "    pickle.dump(clf, open(filename, 'wb'))\n",
    "    return\n",
    "\n"
   ]
  },
  {
   "cell_type": "code",
   "execution_count": 40,
   "id": "079f0e0e",
   "metadata": {},
   "outputs": [],
   "source": [
    "def modelRun(data,pollutant,test_postcodes,valid_postcodes):\n",
    "    modified_data = stringToNumeric(data) \n",
    "    classed_data = aqiClasses(pollutant,modified_data)\n",
    "    X_test,y_test,X_train,y_train,X_valid,y_valid,X_valid_copy,X_test_copy = dataSpliting(classed_data,pollutant,test_postcodes,valid_postcodes)\n",
    "    #X_train,X_valid,X_test = featureSelection(X_train,y_train,X_valid,X_test)\n",
    "    X_train,X_valid, X_test = scaleData(X_train,X_valid,X_test)\n",
    "    trainModel(X_train,y_train,pollutant)\n",
    "    return  X_test,y_test,X_valid,y_valid,X_valid_copy,X_test_copy\n",
    "    "
   ]
  },
  {
   "cell_type": "markdown",
   "id": "6a16e2aa",
   "metadata": {},
   "source": [
    "### Model Validation: I have commented out SO2. I got an error here"
   ]
  },
  {
   "cell_type": "code",
   "execution_count": 41,
   "id": "ef04fa59",
   "metadata": {},
   "outputs": [],
   "source": [
    "def loadTrainedModel():\n",
    "\n",
    "    O3_model = pickle.load(open('O3_trained_model.sav', 'rb'))\n",
    "    SO2_model = pickle.load(open('SO2_trained_model.sav', 'rb'))\n",
    "    NO2_model = pickle.load(open('NO2_trained_model.sav', 'rb'))\n",
    "    PM10_model = pickle.load(open('PM10_trained_model.sav', 'rb'))\n",
    "    PM25_model = pickle.load(open('PM25_trained_model.sav', 'rb'))\n",
    "    return O3_model,SO2_model,NO2_model,PM10_model,PM25_model\n",
    "    #return O3_model,NO2_model,PM10_model,PM25_model\n"
   ]
  },
  {
   "cell_type": "code",
   "execution_count": 42,
   "id": "b0132474",
   "metadata": {},
   "outputs": [],
   "source": [
    "def validateModel(model,X_valid,y_valid,X_valid_copy):\n",
    "    y_pred = model.predict(X_valid)\n",
    "    accuracy = accuracy_score(y_valid.values.ravel(),y_pred )*100\n",
    "    X_valid_copy['predicted_aqi'] = y_pred\n",
    "    X_valid_copy.loc[X_valid_copy['predicted_aqi'] <=3, 'air_pollution'] = 'Low'\n",
    "    X_valid_copy.loc[(X_valid_copy['predicted_aqi']>3)&(X_valid_copy['predicted_aqi']<=6), 'air_pollution'] = 'Moderate'\n",
    "    X_valid_copy.loc[(X_valid_copy['predicted_aqi']>6)&(X_valid_copy['predicted_aqi']<=9), 'air_pollution'] = 'High'\n",
    "    X_valid_copy.loc[X_valid_copy['predicted_aqi']==10, 'air_pollution'] = 'Very High'\n",
    "    return X_valid_copy,accuracy\n",
    "\n"
   ]
  },
  {
   "cell_type": "markdown",
   "id": "b7b183eb",
   "metadata": {},
   "source": [
    "# Experiments"
   ]
  },
  {
   "cell_type": "code",
   "execution_count": 43,
   "id": "4b01742d",
   "metadata": {},
   "outputs": [
    {
     "name": "stdout",
     "output_type": "stream",
     "text": [
      "O3\n",
      "NO2\n",
      "PM10\n",
      "PM25\n"
     ]
    }
   ],
   "source": [
    "all_pollutant_data,O3,NO2,SO2,PM10,PM25 = loadData()\n",
    "#all_pollutant_data,O3,NO2,PM10,PM25 = loadData()\n",
    "test_postcodes,valid_postcodes = postcodeSplit(all_pollutant_data)\n",
    "#test_postcodes,valid_postcodes = postcodeSplit(O3)\n",
    "\n",
    "print('O3')\n",
    "X_test_O3,y_test_O3,X_valid_O3,y_valid_O3,X_valid_copy_O3,X_test_copy_O3 = modelRun(O3,'O3',test_postcodes,valid_postcodes)\n",
    "print('NO2')\n",
    "X_test_NO2,y_test_NO2,X_valid_NO2,y_valid_NO2,X_valid_copy_NO2,X_test_copy_NO2 = modelRun(NO2,'NO2',test_postcodes,valid_postcodes)\n",
    "print('SO2')\n",
    "X_test_SO2,y_test_SO2,X_valid_SO2,y_valid_SO2,X_valid_copy_SO2,X_test_copy_SO2 = modelRun(SO2,'SO2',test_postcodes,valid_postcodes)\n",
    "print('PM10')\n",
    "X_test_PM10,y_test_PM10,X_valid_PM10,y_valid_PM10,X_valid_copy_PM10,X_test_copy_PM10 = modelRun(PM10,'PM10',test_postcodes,valid_postcodes)\n",
    "print('PM25')\n",
    "X_test_PM25,y_test_PM25,X_valid_PM25,y_valid_PM25,X_valid_copy_PM25,X_test_copy_PM25 = modelRun(PM25,'PM25',test_postcodes,valid_postcodes)\n"
   ]
  },
  {
   "cell_type": "code",
   "execution_count": null,
   "id": "b241dcaa",
   "metadata": {},
   "outputs": [],
   "source": [
    "type(X_test_03)"
   ]
  },
  {
   "cell_type": "markdown",
   "id": "a6689e29",
   "metadata": {},
   "source": [
    "### Validation Results"
   ]
  },
  {
   "cell_type": "code",
   "execution_count": 44,
   "id": "e44b754c",
   "metadata": {},
   "outputs": [],
   "source": [
    "def removeDuplicate(df):\n",
    "    df.drop_duplicates(subset=['postcode','datetime'], keep='last').reset_index(drop=True)\n",
    "    return df"
   ]
  },
  {
   "cell_type": "code",
   "execution_count": 45,
   "id": "2d789275",
   "metadata": {},
   "outputs": [],
   "source": [
    "O3_model,SO2_model,NO2_model,PM10_model,PM25_model = loadTrainedModel()\n",
    "#O3_model,NO2_model,PM10_model,PM25_model = loadTrainedModel()\n",
    "O3_result,O3_accuracy = validateModel(O3_model,X_valid_O3,y_valid_O3,X_valid_copy_O3)\n",
    "SO2_result,SO2_accuracy = validateModel(SO2_model,X_valid_SO2,y_valid_SO2,X_valid_copy_SO2)\n",
    "NO2_result,NO2_accuracy = validateModel(NO2_model,X_valid_NO2,y_valid_NO2,X_valid_copy_NO2)\n",
    "PM10_result,PM10_accuracy = validateModel(PM10_model,X_valid_PM10,y_valid_PM10,X_valid_copy_PM10)\n",
    "PM25_result,PM25_accuracy = validateModel(PM25_model,X_valid_PM25,y_valid_PM25,X_valid_copy_PM25)"
   ]
  },
  {
   "cell_type": "code",
   "execution_count": null,
   "id": "79b52496",
   "metadata": {},
   "outputs": [],
   "source": [
    "print('Validation Accuracy')\n",
    "print('O3: ',round(O3_accuracy, 2),'NO2: ','SO2: ',round(SO2_accuracy, 2),round(NO2_accuracy, 2),'PM10: ',round(PM10_accuracy, 2),'PM25: ',round(PM25_accuracy, 2))\n",
    "print('Over ALL Accuracy: ',np.mean([O3_accuracy,SO2_accuracy,NO2_accuracy,PM10_accuracy,PM25_accuracy]))"
   ]
  },
  {
   "cell_type": "code",
   "execution_count": 50,
   "id": "a4c28b4d",
   "metadata": {},
   "outputs": [
    {
     "name": "stdout",
     "output_type": "stream",
     "text": [
      "Validation Accuracy\n",
      "O3:  27.07 NO2:  93.83 PM10:  83.65 PM25:  92.56\n",
      "Over ALL Accuracy:  74.27610637805554\n"
     ]
    }
   ],
   "source": [
    "print('Validation Accuracy')\n",
    "print('O3: ',round(O3_accuracy, 2),'NO2: ',round(NO2_accuracy, 2),'PM10: ',round(PM10_accuracy, 2),'PM25: ',round(PM25_accuracy, 2))\n",
    "print('Over ALL Accuracy: ',np.mean([O3_accuracy,NO2_accuracy,PM10_accuracy,PM25_accuracy]))"
   ]
  },
  {
   "cell_type": "code",
   "execution_count": 17,
   "id": "f51662a4",
   "metadata": {},
   "outputs": [
    {
     "data": {
      "text/html": [
       "<div>\n",
       "<style scoped>\n",
       "    .dataframe tbody tr th:only-of-type {\n",
       "        vertical-align: middle;\n",
       "    }\n",
       "\n",
       "    .dataframe tbody tr th {\n",
       "        vertical-align: top;\n",
       "    }\n",
       "\n",
       "    .dataframe thead th {\n",
       "        text-align: right;\n",
       "    }\n",
       "</style>\n",
       "<table border=\"1\" class=\"dataframe\">\n",
       "  <thead>\n",
       "    <tr style=\"text-align: right;\">\n",
       "      <th></th>\n",
       "      <th>postcode</th>\n",
       "      <th>datetime</th>\n",
       "      <th>predicted_aqi</th>\n",
       "      <th>air_pollution</th>\n",
       "    </tr>\n",
       "  </thead>\n",
       "  <tbody>\n",
       "    <tr>\n",
       "      <th>3585</th>\n",
       "      <td>CV59HS</td>\n",
       "      <td>18/05/2022 20:00</td>\n",
       "      <td>8.0</td>\n",
       "      <td>High</td>\n",
       "    </tr>\n",
       "    <tr>\n",
       "      <th>3586</th>\n",
       "      <td>CV59HS</td>\n",
       "      <td>18/05/2022 20:00</td>\n",
       "      <td>8.0</td>\n",
       "      <td>High</td>\n",
       "    </tr>\n",
       "    <tr>\n",
       "      <th>3587</th>\n",
       "      <td>CV59HS</td>\n",
       "      <td>18/05/2022 20:00</td>\n",
       "      <td>8.0</td>\n",
       "      <td>High</td>\n",
       "    </tr>\n",
       "    <tr>\n",
       "      <th>4305</th>\n",
       "      <td>CT11XN</td>\n",
       "      <td>23/05/2022 03:00</td>\n",
       "      <td>8.0</td>\n",
       "      <td>High</td>\n",
       "    </tr>\n",
       "    <tr>\n",
       "      <th>712</th>\n",
       "      <td>BS28XW</td>\n",
       "      <td>17/05/2022 08:00</td>\n",
       "      <td>7.0</td>\n",
       "      <td>High</td>\n",
       "    </tr>\n",
       "    <tr>\n",
       "      <th>713</th>\n",
       "      <td>BS28XW</td>\n",
       "      <td>17/05/2022 08:00</td>\n",
       "      <td>7.0</td>\n",
       "      <td>High</td>\n",
       "    </tr>\n",
       "    <tr>\n",
       "      <th>714</th>\n",
       "      <td>BS28XW</td>\n",
       "      <td>17/05/2022 08:00</td>\n",
       "      <td>7.0</td>\n",
       "      <td>High</td>\n",
       "    </tr>\n",
       "    <tr>\n",
       "      <th>715</th>\n",
       "      <td>BS28XW</td>\n",
       "      <td>17/05/2022 08:00</td>\n",
       "      <td>7.0</td>\n",
       "      <td>High</td>\n",
       "    </tr>\n",
       "    <tr>\n",
       "      <th>716</th>\n",
       "      <td>BS28XW</td>\n",
       "      <td>17/05/2022 08:00</td>\n",
       "      <td>7.0</td>\n",
       "      <td>High</td>\n",
       "    </tr>\n",
       "  </tbody>\n",
       "</table>\n",
       "</div>"
      ],
      "text/plain": [
       "     postcode          datetime  predicted_aqi air_pollution\n",
       "3585   CV59HS  18/05/2022 20:00            8.0          High\n",
       "3586   CV59HS  18/05/2022 20:00            8.0          High\n",
       "3587   CV59HS  18/05/2022 20:00            8.0          High\n",
       "4305   CT11XN  23/05/2022 03:00            8.0          High\n",
       "712    BS28XW  17/05/2022 08:00            7.0          High\n",
       "713    BS28XW  17/05/2022 08:00            7.0          High\n",
       "714    BS28XW  17/05/2022 08:00            7.0          High\n",
       "715    BS28XW  17/05/2022 08:00            7.0          High\n",
       "716    BS28XW  17/05/2022 08:00            7.0          High"
      ]
     },
     "execution_count": 17,
     "metadata": {},
     "output_type": "execute_result"
    }
   ],
   "source": [
    "SO2_result = removeDuplicate(SO2_result)\n",
    "NO2_result = removeDuplicate(NO2_result)\n",
    "PM10_result = removeDuplicate(PM10_result)\n",
    "PM25_result = removeDuplicate(PM25_result)\n",
    "O3_result = removeDuplicate(O3_result)\n",
    "\n",
    "all_results = O3_result.append(SO2_result.append(NO2_result.append(PM10_result.append(PM25_result))))\n",
    "#all_results = removeDuplicate(all_results)\n",
    "all_results[all_results.air_pollution == 'High']"
   ]
  },
  {
   "cell_type": "code",
   "execution_count": 65,
   "id": "6fac7632",
   "metadata": {},
   "outputs": [
    {
     "data": {
      "text/html": [
       "<div>\n",
       "<style scoped>\n",
       "    .dataframe tbody tr th:only-of-type {\n",
       "        vertical-align: middle;\n",
       "    }\n",
       "\n",
       "    .dataframe tbody tr th {\n",
       "        vertical-align: top;\n",
       "    }\n",
       "\n",
       "    .dataframe thead th {\n",
       "        text-align: right;\n",
       "    }\n",
       "</style>\n",
       "<table border=\"1\" class=\"dataframe\">\n",
       "  <thead>\n",
       "    <tr style=\"text-align: right;\">\n",
       "      <th></th>\n",
       "      <th>postcode</th>\n",
       "      <th>datetime</th>\n",
       "      <th>predicted_aqi</th>\n",
       "      <th>air_pollution</th>\n",
       "    </tr>\n",
       "  </thead>\n",
       "  <tbody>\n",
       "    <tr>\n",
       "      <th>0</th>\n",
       "      <td>CT11XN</td>\n",
       "      <td>01/05/2022 03:00</td>\n",
       "      <td>3.0</td>\n",
       "      <td>Low</td>\n",
       "    </tr>\n",
       "    <tr>\n",
       "      <th>1</th>\n",
       "      <td>CT11XN</td>\n",
       "      <td>01/05/2022 04:00</td>\n",
       "      <td>3.0</td>\n",
       "      <td>Low</td>\n",
       "    </tr>\n",
       "    <tr>\n",
       "      <th>2</th>\n",
       "      <td>CT11XN</td>\n",
       "      <td>28/05/2022 01:00</td>\n",
       "      <td>1.0</td>\n",
       "      <td>Low</td>\n",
       "    </tr>\n",
       "    <tr>\n",
       "      <th>3</th>\n",
       "      <td>CT11XN</td>\n",
       "      <td>28/05/2022 02:00</td>\n",
       "      <td>1.0</td>\n",
       "      <td>Low</td>\n",
       "    </tr>\n",
       "    <tr>\n",
       "      <th>4</th>\n",
       "      <td>CT11XN</td>\n",
       "      <td>28/05/2022 03:00</td>\n",
       "      <td>1.0</td>\n",
       "      <td>Low</td>\n",
       "    </tr>\n",
       "    <tr>\n",
       "      <th>...</th>\n",
       "      <td>...</td>\n",
       "      <td>...</td>\n",
       "      <td>...</td>\n",
       "      <td>...</td>\n",
       "    </tr>\n",
       "    <tr>\n",
       "      <th>3771</th>\n",
       "      <td>CT11XN</td>\n",
       "      <td>12/05/2022 13:00</td>\n",
       "      <td>1.0</td>\n",
       "      <td>Low</td>\n",
       "    </tr>\n",
       "    <tr>\n",
       "      <th>3772</th>\n",
       "      <td>CT11XN</td>\n",
       "      <td>12/05/2022 13:00</td>\n",
       "      <td>1.0</td>\n",
       "      <td>Low</td>\n",
       "    </tr>\n",
       "    <tr>\n",
       "      <th>3773</th>\n",
       "      <td>CT11XN</td>\n",
       "      <td>12/05/2022 14:00</td>\n",
       "      <td>1.0</td>\n",
       "      <td>Low</td>\n",
       "    </tr>\n",
       "    <tr>\n",
       "      <th>3774</th>\n",
       "      <td>CT11XN</td>\n",
       "      <td>12/05/2022 14:00</td>\n",
       "      <td>1.0</td>\n",
       "      <td>Low</td>\n",
       "    </tr>\n",
       "    <tr>\n",
       "      <th>3775</th>\n",
       "      <td>CT11XN</td>\n",
       "      <td>12/05/2022 14:00</td>\n",
       "      <td>1.0</td>\n",
       "      <td>Low</td>\n",
       "    </tr>\n",
       "  </tbody>\n",
       "</table>\n",
       "<p>14984 rows × 4 columns</p>\n",
       "</div>"
      ],
      "text/plain": [
       "     postcode          datetime  predicted_aqi air_pollution\n",
       "0      CT11XN  01/05/2022 03:00            3.0           Low\n",
       "1      CT11XN  01/05/2022 04:00            3.0           Low\n",
       "2      CT11XN  28/05/2022 01:00            1.0           Low\n",
       "3      CT11XN  28/05/2022 02:00            1.0           Low\n",
       "4      CT11XN  28/05/2022 03:00            1.0           Low\n",
       "...       ...               ...            ...           ...\n",
       "3771   CT11XN  12/05/2022 13:00            1.0           Low\n",
       "3772   CT11XN  12/05/2022 13:00            1.0           Low\n",
       "3773   CT11XN  12/05/2022 14:00            1.0           Low\n",
       "3774   CT11XN  12/05/2022 14:00            1.0           Low\n",
       "3775   CT11XN  12/05/2022 14:00            1.0           Low\n",
       "\n",
       "[14984 rows x 4 columns]"
      ]
     },
     "execution_count": 65,
     "metadata": {},
     "output_type": "execute_result"
    }
   ],
   "source": [
    "#SO2_result = removeDuplicate(SO2_result)\n",
    "NO2_result = removeDuplicate(NO2_result)\n",
    "PM10_result = removeDuplicate(PM10_result)\n",
    "PM25_result = removeDuplicate(PM25_result)\n",
    "O3_result = removeDuplicate(O3_result)\n",
    "\n",
    "#all_results = O3_result.append(NO2_result.append(PM10_result.append(PM25_result)))\n",
    "all_results = pd.concat([O3_result,NO2_result,PM10_result,PM25_result], axis = 0)\n",
    "#all_results = removeDuplicate(all_results)\n",
    "all_results[all_results.air_pollution == 'Low']\n"
   ]
  },
  {
   "cell_type": "code",
   "execution_count": 25,
   "id": "f374cb68",
   "metadata": {},
   "outputs": [],
   "source": [
    "def getAQI(pc,dateAndTime,result):\n",
    "    ap = result.air_pollution[(result.postcode == pc) & (result.datetime == dateAndTime)].values\n",
    "    \n",
    "    if len(ap) > 1 :\n",
    "        ap = [ap[0]]\n",
    "    return ap\n",
    "def resultExtraction(pc,dateAndTime):\n",
    "    #ap_so2 = getAQI(pc,dateAndTime,SO2_result)\n",
    "    ap_no2 = getAQI(pc,dateAndTime,NO2_result)\n",
    "    ap_o3 = getAQI(pc,dateAndTime,O3_result)\n",
    "    ap_pm10 = getAQI(pc,dateAndTime,PM10_result)\n",
    "    ap_pm25 = getAQI(pc,dateAndTime,PM25_result)\n",
    "    \n",
    "    #all_in= [ap_so2,ap_no2,ap_o3,ap_pm10,ap_pm25]\n",
    "    all_in= [ap_no2,ap_o3,ap_pm10,ap_pm25]\n",
    "    all_in= [item for sublist in all_in for item in sublist]\n",
    "    if 'Very High' in all_in:\n",
    "        return 'Very High'\n",
    "    elif 'High' in all_in:\n",
    "        return 'High'\n",
    "    elif 'Moderate' in all_in:\n",
    "        return 'Moderate'\n",
    "    elif 'Low' in all_in:\n",
    "        return 'Low'"
   ]
  },
  {
   "cell_type": "code",
   "execution_count": 26,
   "id": "01e34b88",
   "metadata": {},
   "outputs": [],
   "source": [
    "def animate():\n",
    "    for c in itertools.cycle(['|', '/', '-', '\\\\']):\n",
    "        if done:\n",
    "            break\n",
    "        sys.stdout.write('\\rAir Pollution Level Forecast in Progress ' + c)\n",
    "        sys.stdout.flush()\n",
    "        time.sleep(0.1)\n",
    "    sys.stdout.write('\\rDone!     ')\n",
    "\n"
   ]
  },
  {
   "cell_type": "code",
   "execution_count": 64,
   "id": "3b574eec",
   "metadata": {},
   "outputs": [
    {
     "name": "stdout",
     "output_type": "stream",
     "text": [
      "Please enter Postcode:\n",
      "CV59HS\n",
      "You entered CV59HS\n",
      "Please enter date and time:\n",
      "18/05/2022 20:00\n",
      "You entered 18/05/2022 20:00 \n",
      "\n",
      "Air Pollution Level Forecast in Progress /\n",
      "Air Pollution level forecast for CV59HS at 18/05/2022 20:00 is Low\n",
      "Done!     "
     ]
    }
   ],
   "source": [
    "pc = input(\"Please enter Postcode:\\n\")\n",
    "print(f'You entered {pc}')\n",
    "dateAndTime = input(\"Please enter date and time:\\n\")\n",
    "print(f'You entered {dateAndTime} \\n')\n",
    "done = False\n",
    "t = threading.Thread(target=animate)\n",
    "t.start()\n",
    "time.sleep(1)\n",
    "done = True\n",
    "print('\\nAir Pollution level forecast for '+pc+' at '+dateAndTime+' is '+resultExtraction(pc,dateAndTime) )\n",
    "#print(type(pc))\n",
    "#print(type(dateAndTime))"
   ]
  },
  {
   "cell_type": "code",
   "execution_count": null,
   "id": "b3bbf37b",
   "metadata": {},
   "outputs": [],
   "source": [
    "CV59HS\t18/05/2022 20:00"
   ]
  },
  {
   "cell_type": "code",
   "execution_count": 215,
   "id": "1526aa0f",
   "metadata": {},
   "outputs": [
    {
     "ename": "NameError",
     "evalue": "name 'SO2_result' is not defined",
     "output_type": "error",
     "traceback": [
      "\u001b[0;31m---------------------------------------------------------------------------\u001b[0m",
      "\u001b[0;31mNameError\u001b[0m                                 Traceback (most recent call last)",
      "Input \u001b[0;32mIn [215]\u001b[0m, in \u001b[0;36m<cell line: 2>\u001b[0;34m()\u001b[0m\n\u001b[1;32m      1\u001b[0m final_result \u001b[38;5;241m=\u001b[39m pd\u001b[38;5;241m.\u001b[39mDataFrame(columns\u001b[38;5;241m=\u001b[39m[\u001b[38;5;124m'\u001b[39m\u001b[38;5;124mpostcode\u001b[39m\u001b[38;5;124m'\u001b[39m,\u001b[38;5;124m'\u001b[39m\u001b[38;5;124mdatetime\u001b[39m\u001b[38;5;124m'\u001b[39m,\u001b[38;5;124m'\u001b[39m\u001b[38;5;124mair_pollution\u001b[39m\u001b[38;5;124m'\u001b[39m])\n\u001b[1;32m      2\u001b[0m \u001b[38;5;28;01mfor\u001b[39;00m index, row \u001b[38;5;129;01min\u001b[39;00m all_results\u001b[38;5;241m.\u001b[39miterrows():\n\u001b[0;32m----> 3\u001b[0m     SO2_ap \u001b[38;5;241m=\u001b[39m \u001b[38;5;28mstr\u001b[39m(\u001b[43mSO2_result\u001b[49m\u001b[38;5;241m.\u001b[39mair_pollution[(SO2_result\u001b[38;5;241m.\u001b[39mpostcode\u001b[38;5;241m==\u001b[39mrow\u001b[38;5;241m.\u001b[39mpostcode) \u001b[38;5;241m&\u001b[39m(SO2_result\u001b[38;5;241m.\u001b[39mdatetime\u001b[38;5;241m==\u001b[39mrow\u001b[38;5;241m.\u001b[39mdatetime)]\u001b[38;5;241m.\u001b[39mvalues)\n\u001b[1;32m      5\u001b[0m     \u001b[38;5;66;03m#print('start')\u001b[39;00m\n\u001b[1;32m      6\u001b[0m     \u001b[38;5;66;03m#print(row)\u001b[39;00m\n\u001b[1;32m      7\u001b[0m     \u001b[38;5;66;03m#print(SO2_result[(SO2_result.postcode==row.postcode)&(SO2_result.datetime==row.datetime)])\u001b[39;00m\n\u001b[1;32m      8\u001b[0m     \u001b[38;5;66;03m#print(SO2_result.air_pollution[(SO2_result.postcode==row.postcode) &(SO2_result.datetime==row.datetime)])\u001b[39;00m\n\u001b[1;32m      9\u001b[0m     \u001b[38;5;28mprint\u001b[39m(SO2_ap)\n",
      "\u001b[0;31mNameError\u001b[0m: name 'SO2_result' is not defined"
     ]
    }
   ],
   "source": [
    "final_result = pd.DataFrame(columns=['postcode','datetime','air_pollution'])\n",
    "for index, row in all_results.iterrows():\n",
    "    SO2_ap = str(SO2_result.air_pollution[(SO2_result.postcode==row.postcode) &(SO2_result.datetime==row.datetime)].values)\n",
    "    \n",
    "    #print('start')\n",
    "    #print(row)\n",
    "    #print(SO2_result[(SO2_result.postcode==row.postcode)&(SO2_result.datetime==row.datetime)])\n",
    "    #print(SO2_result.air_pollution[(SO2_result.postcode==row.postcode) &(SO2_result.datetime==row.datetime)])\n",
    "    print(SO2_ap)\n",
    "    #print('end')\n",
    "    NO2_ap = str(NO2_result.air_pollution[(NO2_result.postcode==row.postcode) &(NO2_result.datetime==row.datetime)].values)\n",
    "    #print(NO2_ap)\n",
    "    O3_ap = str(O3_result.air_pollution[(O3_result.postcode==row.postcode) &(O3_result.datetime==row.datetime)].values)\n",
    "    #print(O3_ap)\n",
    "    PM10_ap = str(PM10_result.air_pollution[(PM10_result.postcode==row.postcode) &(PM10_result.datetime==row.datetime)].values)\n",
    "    #print(PM10_ap)\n",
    "    PM25_ap = str(PM25_result.air_pollution[(PM25_result.postcode==row.postcode) &(PM25_result.datetime==row.datetime)].values)\n",
    "    #print(PM25_ap)\n",
    "    ap = [SO2_ap,NO2_ap,O3_ap,PM10_ap,PM25_ap]\n",
    "\n",
    "    if 'Very High' in ap :\n",
    "        final_result = final_result.append(pd.DataFrame([row.postcode,row.datetime,'Very High'], columns=['postcode','datetime','air_pollution']), ignore_index=True)\n",
    "    elif 'High' in ap:\n",
    "        final_result = final_result.append(pd.DataFrame([row.postcode,row.datetime,'High'], columns=['postcode','datetime','air_pollution']), ignore_index=True)\n",
    "    elif 'Moderate' in ap:\n",
    "        final_result = final_result.append(pd.DataFrame([row.postcode,row.datetime,'Moderate'], columns=['postcode','datetime','air_pollution']), ignore_index=True)\n",
    "    elif 'Low' in ap:\n",
    "        print('in low')\n",
    "        final_result = final_result.append(pd.DataFrame([row.postcode,row.datetime,'Low'], columns=['postcode','datetime','air_pollution']), ignore_index=True)\n",
    "final_result      "
   ]
  },
  {
   "cell_type": "code",
   "execution_count": 266,
   "id": "570d55ba",
   "metadata": {},
   "outputs": [
    {
     "data": {
      "text/plain": [
       "['[]',\n",
       " '4502    Low\\n4503    Low\\n4504    Low\\n4505    Low\\nName: air_pollution, dtype: object',\n",
       " 'Series([], Name: air_pollution, dtype: object)',\n",
       " 'Series([], Name: air_pollution, dtype: object)',\n",
       " '3772    Low\\n3773    Low\\n3774    Low\\n3775    Low\\nName: air_pollution, dtype: object']"
      ]
     },
     "execution_count": 266,
     "metadata": {},
     "output_type": "execute_result"
    }
   ],
   "source": [
    "ap"
   ]
  },
  {
   "cell_type": "code",
   "execution_count": 210,
   "id": "6b2aaebe",
   "metadata": {},
   "outputs": [
    {
     "data": {
      "text/html": [
       "<div>\n",
       "<style scoped>\n",
       "    .dataframe tbody tr th:only-of-type {\n",
       "        vertical-align: middle;\n",
       "    }\n",
       "\n",
       "    .dataframe tbody tr th {\n",
       "        vertical-align: top;\n",
       "    }\n",
       "\n",
       "    .dataframe thead th {\n",
       "        text-align: right;\n",
       "    }\n",
       "</style>\n",
       "<table border=\"1\" class=\"dataframe\">\n",
       "  <thead>\n",
       "    <tr style=\"text-align: right;\">\n",
       "      <th></th>\n",
       "      <th>postcode</th>\n",
       "      <th>datetime</th>\n",
       "      <th>air_pollution</th>\n",
       "    </tr>\n",
       "  </thead>\n",
       "  <tbody>\n",
       "  </tbody>\n",
       "</table>\n",
       "</div>"
      ],
      "text/plain": [
       "Empty DataFrame\n",
       "Columns: [postcode, datetime, air_pollution]\n",
       "Index: []"
      ]
     },
     "execution_count": 210,
     "metadata": {},
     "output_type": "execute_result"
    }
   ],
   "source": [
    "final_result = pd.DataFrame(columns=['postcode','datetime','air_pollution'])\n",
    "for index, row in all_results.iterrows():\n",
    "    #SO2_ap = str(SO2_result.air_pollution[(SO2_result.postcode==row.postcode) &(SO2_result.datetime==row.datetime)].values)\n",
    "    \n",
    "    #print('start')\n",
    "    #print(row)\n",
    "    #print(SO2_result[(SO2_result.postcode==row.postcode)&(SO2_result.datetime==row.datetime)])\n",
    "    #print(SO2_result.air_pollution[(SO2_result.postcode==row.postcode) &(SO2_result.datetime==row.datetime)])\n",
    "    #print(SO2_ap)\n",
    "    #print('end')\n",
    "    NO2_ap = str(NO2_result.air_pollution[(NO2_result.postcode==row.postcode) &(NO2_result.datetime==row.datetime)].values)\n",
    "    #print(NO2_ap)\n",
    "    O3_ap = str(O3_result.air_pollution[(O3_result.postcode==row.postcode) &(O3_result.datetime==row.datetime)].values)\n",
    "    #print(O3_ap)\n",
    "    PM10_ap = str(PM10_result.air_pollution[(PM10_result.postcode==row.postcode) &(PM10_result.datetime==row.datetime)].values)\n",
    "    #print(PM10_ap)\n",
    "    PM25_ap = str(PM25_result.air_pollution[(PM25_result.postcode==row.postcode) &(PM25_result.datetime==row.datetime)].values)\n",
    "    #print(PM25_ap)\n",
    "    #ap = [SO2_ap,NO2_ap,O3_ap,PM10_ap,PM25_ap]\n",
    "    ap = [NO2_ap,O3_ap,PM10_ap,PM25_ap]\n",
    "\n",
    "    if 'Very High' in ap :\n",
    "        final_result = final_result.append(pd.DataFrame([row.postcode,row.datetime,'Very High'], columns=['postcode','datetime','air_pollution']), ignore_index=True)\n",
    "    elif 'High' in ap:\n",
    "        final_result = final_result.append(pd.DataFrame([row.postcode,row.datetime,'High'], columns=['postcode','datetime','air_pollution']), ignore_index=True)\n",
    "    elif 'Moderate' in ap:\n",
    "        final_result = final_result.append(pd.DataFrame([row.postcode,row.datetime,'Moderate'], columns=['postcode','datetime','air_pollution']), ignore_index=True)\n",
    "    elif 'Low' in ap:\n",
    "        print('in low')\n",
    "        final_result = final_result.append(pd.DataFrame([row.postcode,row.datetime,'Low'], columns=['postcode','datetime','air_pollution']), ignore_index=True)\n",
    "final_result  "
   ]
  },
  {
   "cell_type": "code",
   "execution_count": 211,
   "id": "6be4b47d",
   "metadata": {},
   "outputs": [
    {
     "data": {
      "text/plain": [
       "\"['Low' 'Low' 'Low']\""
      ]
     },
     "execution_count": 211,
     "metadata": {},
     "output_type": "execute_result"
    }
   ],
   "source": [
    "PM25_ap"
   ]
  },
  {
   "cell_type": "code",
   "execution_count": 212,
   "id": "df09d792",
   "metadata": {},
   "outputs": [
    {
     "data": {
      "text/plain": [
       "array(['Low'], dtype=object)"
      ]
     },
     "execution_count": 212,
     "metadata": {},
     "output_type": "execute_result"
    }
   ],
   "source": [
    "NO2_result.air_pollution.unique()"
   ]
  },
  {
   "cell_type": "markdown",
   "id": "aeb83da9",
   "metadata": {},
   "source": [
    "### Model Testing"
   ]
  },
  {
   "cell_type": "code",
   "execution_count": 214,
   "id": "6d8a71e8",
   "metadata": {},
   "outputs": [
    {
     "name": "stdout",
     "output_type": "stream",
     "text": [
      "Testing\n"
     ]
    },
    {
     "ename": "NameError",
     "evalue": "name 'clf' is not defined",
     "output_type": "error",
     "traceback": [
      "\u001b[0;31m---------------------------------------------------------------------------\u001b[0m",
      "\u001b[0;31mNameError\u001b[0m                                 Traceback (most recent call last)",
      "Input \u001b[0;32mIn [214]\u001b[0m, in \u001b[0;36m<cell line: 2>\u001b[0;34m()\u001b[0m\n\u001b[1;32m      1\u001b[0m \u001b[38;5;28mprint\u001b[39m(\u001b[38;5;124m'\u001b[39m\u001b[38;5;124mTesting\u001b[39m\u001b[38;5;124m'\u001b[39m)\n\u001b[0;32m----> 2\u001b[0m y_pred \u001b[38;5;241m=\u001b[39m \u001b[43mclf\u001b[49m\u001b[38;5;241m.\u001b[39mpredict(X_test)\n\u001b[1;32m      3\u001b[0m \u001b[38;5;28mprint\u001b[39m(y_pred)\n\u001b[1;32m      4\u001b[0m accuracy_score(y_test\u001b[38;5;241m.\u001b[39mvalues\u001b[38;5;241m.\u001b[39mravel(),y_pred )\u001b[38;5;241m*\u001b[39m\u001b[38;5;241m100\u001b[39m\n",
      "\u001b[0;31mNameError\u001b[0m: name 'clf' is not defined"
     ]
    }
   ],
   "source": [
    "print('Testing')\n",
    "y_pred = clf.predict(X_test)\n",
    "print(y_pred)\n",
    "accuracy_score(y_test.values.ravel(),y_pred )*100"
   ]
  },
  {
   "cell_type": "code",
   "execution_count": null,
   "id": "e267d496",
   "metadata": {},
   "outputs": [],
   "source": []
  }
 ],
 "metadata": {
  "kernelspec": {
   "display_name": "Python 3 (ipykernel)",
   "language": "python",
   "name": "python3"
  },
  "language_info": {
   "codemirror_mode": {
    "name": "ipython",
    "version": 3
   },
   "file_extension": ".py",
   "mimetype": "text/x-python",
   "name": "python",
   "nbconvert_exporter": "python",
   "pygments_lexer": "ipython3",
   "version": "3.9.12"
  }
 },
 "nbformat": 4,
 "nbformat_minor": 5
}
